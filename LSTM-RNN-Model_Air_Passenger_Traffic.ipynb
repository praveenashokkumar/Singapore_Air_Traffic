{
 "cells": [
  {
   "cell_type": "markdown",
   "metadata": {},
   "source": [
    "## Program to Predict Air Passenger Traffic in Singapore using RNN"
   ]
  },
  {
   "cell_type": "code",
   "execution_count": 1,
   "metadata": {
    "scrolled": true
   },
   "outputs": [
    {
     "name": "stderr",
     "output_type": "stream",
     "text": [
      "Using TensorFlow backend.\n",
      "/home/pui-user/anaconda3/lib/python3.6/importlib/_bootstrap.py:205: RuntimeWarning: compiletime version 3.5 of module 'tensorflow.python.framework.fast_tensor_util' does not match runtime version 3.6\n",
      "  return f(*args, **kwds)\n"
     ]
    }
   ],
   "source": [
    "from __future__ import print_function, division\n",
    "import numpy as np\n",
    "import matplotlib.pyplot as plt\n",
    "import pandas as pd\n",
    "import math\n",
    "from keras.models import Sequential\n",
    "from keras.layers import Dense\n",
    "from keras.layers import LSTM\n",
    "from sklearn.preprocessing import MinMaxScaler\n",
    "from sklearn.metrics import mean_squared_error"
   ]
  },
  {
   "cell_type": "code",
   "execution_count": 2,
   "metadata": {
    "collapsed": true
   },
   "outputs": [],
   "source": [
    "# Assigning a random seed for reproducability\n",
    "np.random.seed(666)"
   ]
  },
  {
   "cell_type": "code",
   "execution_count": 3,
   "metadata": {
    "collapsed": true
   },
   "outputs": [],
   "source": [
    "# Loading the File\n",
    "dataframe = pd.read_csv('total-air-passenger-arrivals.csv', \\\n",
    "                        usecols=[1], engine='python', skipfooter=3)"
   ]
  },
  {
   "cell_type": "code",
   "execution_count": 4,
   "metadata": {
    "collapsed": true
   },
   "outputs": [],
   "source": [
    "#Converting to a Float datatype to convert to Numpy Array\n",
    "dataset = dataframe.values\n",
    "dataset = dataset.astype('float32')"
   ]
  },
  {
   "cell_type": "code",
   "execution_count": 5,
   "metadata": {
    "scrolled": true
   },
   "outputs": [
    {
     "data": {
      "image/png": "[encoded data removed]",
      "text/plain": [
       "<matplotlib.figure.Figure at 0x7f41dfe83208>"
      ]
     },
     "metadata": {},
     "output_type": "display_data"
    }
   ],
   "source": [
    "plt.plot(dataset)\n",
    "plt.xlabel('Total Air Passenger Traffic', fontsize=14)\n",
    "plt.ylabel('Months', fontsize=14)\n",
    "plt.title('Total Air Passenger Traffic in Singapore', fontsize = 16)\n",
    "plt.show()"
   ]
  },
  {
   "cell_type": "markdown",
   "metadata": {},
   "source": [
    "### Fig.1: This figure shows the overall Air Passenger Traffic in Singapore in tonnes as a function of months."
   ]
  },
  {
   "cell_type": "code",
   "execution_count": 6,
   "metadata": {
    "collapsed": true
   },
   "outputs": [],
   "source": [
    "# Assigning Range\n",
    "scaler = MinMaxScaler(feature_range=(0, 1))\n",
    "dataset = scaler.fit_transform(dataset)"
   ]
  },
  {
   "cell_type": "code",
   "execution_count": 7,
   "metadata": {},
   "outputs": [
    {
     "name": "stdout",
     "output_type": "stream",
     "text": [
      "train_data_size: 454  test_data_size: 224\n"
     ]
    }
   ],
   "source": [
    "#Dividing Training and Test Sample\n",
    "train_size = int(len(dataset) * 0.67)\n",
    "test_size = len(dataset) - train_size\n",
    "train, test = dataset[0:train_size,:], dataset[train_size:len(dataset),:]\n",
    "print (\"train_data_size: \" + str(len(train)), \" test_data_size: \"+str(len(test)))"
   ]
  },
  {
   "cell_type": "code",
   "execution_count": 8,
   "metadata": {
    "collapsed": true
   },
   "outputs": [],
   "source": [
    "#Function to Create Nump Dataset\n",
    "def create_dataset(dataset, look_back=1):\n",
    "    dataX, dataY = [], []\n",
    "    for i in range(len(dataset)-look_back-1):\n",
    "        a = dataset[i:(i+look_back), 0]\n",
    "        dataX.append(a)\n",
    "        dataY.append(dataset[i + look_back, 0])\n",
    "    return np.array(dataX), np.array(dataY)"
   ]
  },
  {
   "cell_type": "code",
   "execution_count": 9,
   "metadata": {
    "collapsed": true
   },
   "outputs": [],
   "source": [
    "# Assigning X to t and Y to t+!\n",
    "look_back = 1\n",
    "trainX, trainY = create_dataset(train, look_back)\n",
    "testX, testY = create_dataset(test, look_back)"
   ]
  },
  {
   "cell_type": "code",
   "execution_count": 10,
   "metadata": {
    "collapsed": true
   },
   "outputs": [],
   "source": [
    "# Reshaping the Array\n",
    "trainX = np.reshape(trainX, (trainX.shape[0], 1, trainX.shape[1]))\n",
    "testX = np.reshape(testX, (testX.shape[0], 1, testX.shape[1]))\n"
   ]
  },
  {
   "cell_type": "code",
   "execution_count": 11,
   "metadata": {},
   "outputs": [
    {
     "name": "stderr",
     "output_type": "stream",
     "text": [
      "/home/pui-user/anaconda3/lib/python3.6/site-packages/ipykernel_launcher.py:3: UserWarning: The `input_dim` and `input_length` arguments in recurrent layers are deprecated. Use `input_shape` instead.\n",
      "  This is separate from the ipykernel package so we can avoid doing imports until\n",
      "/home/pui-user/anaconda3/lib/python3.6/site-packages/ipykernel_launcher.py:3: UserWarning: Update your `LSTM` call to the Keras 2 API: `LSTM(4, input_shape=(None, 1))`\n",
      "  This is separate from the ipykernel package so we can avoid doing imports until\n",
      "/home/pui-user/anaconda3/lib/python3.6/site-packages/keras/models.py:939: UserWarning: The `nb_epoch` argument in `fit` has been renamed `epochs`.\n",
      "  warnings.warn('The `nb_epoch` argument in `fit` '\n"
     ]
    },
    {
     "name": "stdout",
     "output_type": "stream",
     "text": [
      "Epoch 1/100\n",
      " - 1s - loss: 0.0070\n",
      "Epoch 2/100\n",
      " - 1s - loss: 0.0025\n",
      "Epoch 3/100\n",
      " - 1s - loss: 5.0422e-04\n",
      "Epoch 4/100\n",
      " - 1s - loss: 2.5968e-04\n",
      "Epoch 5/100\n",
      " - 1s - loss: 2.5663e-04\n",
      "Epoch 6/100\n",
      " - 1s - loss: 2.6629e-04\n",
      "Epoch 7/100\n",
      " - 1s - loss: 2.6365e-04\n",
      "Epoch 8/100\n",
      " - 1s - loss: 2.5783e-04\n",
      "Epoch 9/100\n",
      " - 1s - loss: 2.5225e-04\n",
      "Epoch 10/100\n",
      " - 1s - loss: 2.6605e-04\n",
      "Epoch 11/100\n",
      " - 1s - loss: 2.6067e-04\n",
      "Epoch 12/100\n",
      " - 1s - loss: 2.6093e-04\n",
      "Epoch 13/100\n",
      " - 1s - loss: 2.6061e-04\n",
      "Epoch 14/100\n",
      " - 1s - loss: 2.6618e-04\n",
      "Epoch 15/100\n",
      " - 1s - loss: 2.6301e-04\n",
      "Epoch 16/100\n",
      " - 1s - loss: 2.6360e-04\n",
      "Epoch 17/100\n",
      " - 1s - loss: 2.5850e-04\n",
      "Epoch 18/100\n",
      " - 1s - loss: 2.5347e-04\n",
      "Epoch 19/100\n",
      " - 1s - loss: 2.5219e-04\n",
      "Epoch 20/100\n",
      " - 1s - loss: 2.5924e-04\n",
      "Epoch 21/100\n",
      " - 1s - loss: 2.6161e-04\n",
      "Epoch 22/100\n",
      " - 1s - loss: 2.5702e-04\n",
      "Epoch 23/100\n",
      " - 1s - loss: 2.6627e-04\n",
      "Epoch 24/100\n",
      " - 1s - loss: 2.5095e-04\n",
      "Epoch 25/100\n",
      " - 1s - loss: 2.5208e-04\n",
      "Epoch 26/100\n",
      " - 1s - loss: 2.5259e-04\n",
      "Epoch 27/100\n",
      " - 1s - loss: 2.4070e-04\n",
      "Epoch 28/100\n",
      " - 1s - loss: 2.5159e-04\n",
      "Epoch 29/100\n",
      " - 1s - loss: 2.5052e-04\n",
      "Epoch 30/100\n",
      " - 1s - loss: 2.6228e-04\n",
      "Epoch 31/100\n",
      " - 1s - loss: 2.5270e-04\n",
      "Epoch 32/100\n",
      " - 1s - loss: 2.6031e-04\n",
      "Epoch 33/100\n",
      " - 1s - loss: 2.5147e-04\n",
      "Epoch 34/100\n",
      " - 1s - loss: 2.5388e-04\n",
      "Epoch 35/100\n",
      " - 1s - loss: 2.5322e-04\n",
      "Epoch 36/100\n",
      " - 1s - loss: 2.5231e-04\n",
      "Epoch 37/100\n",
      " - 1s - loss: 2.5120e-04\n",
      "Epoch 38/100\n",
      " - 1s - loss: 2.5598e-04\n",
      "Epoch 39/100\n",
      " - 1s - loss: 2.5287e-04\n",
      "Epoch 40/100\n",
      " - 1s - loss: 2.5625e-04\n",
      "Epoch 41/100\n",
      " - 1s - loss: 2.5855e-04\n",
      "Epoch 42/100\n",
      " - 1s - loss: 2.5161e-04\n",
      "Epoch 43/100\n",
      " - 1s - loss: 2.5434e-04\n",
      "Epoch 44/100\n",
      " - 1s - loss: 2.5208e-04\n",
      "Epoch 45/100\n",
      " - 1s - loss: 2.5291e-04\n",
      "Epoch 46/100\n",
      " - 1s - loss: 2.5097e-04\n",
      "Epoch 47/100\n",
      " - 1s - loss: 2.4802e-04\n",
      "Epoch 48/100\n",
      " - 1s - loss: 2.5106e-04\n",
      "Epoch 49/100\n",
      " - 1s - loss: 2.5514e-04\n",
      "Epoch 50/100\n",
      " - 2s - loss: 2.5682e-04\n",
      "Epoch 51/100\n",
      " - 2s - loss: 2.5077e-04\n",
      "Epoch 52/100\n",
      " - 2s - loss: 2.4627e-04\n",
      "Epoch 53/100\n",
      " - 1s - loss: 2.4597e-04\n",
      "Epoch 54/100\n",
      " - 1s - loss: 2.5183e-04\n",
      "Epoch 55/100\n",
      " - 1s - loss: 2.4116e-04\n",
      "Epoch 56/100\n",
      " - 1s - loss: 2.5531e-04\n",
      "Epoch 57/100\n",
      " - 1s - loss: 2.4646e-04\n",
      "Epoch 58/100\n",
      " - 1s - loss: 2.4802e-04\n",
      "Epoch 59/100\n",
      " - 1s - loss: 2.4531e-04\n",
      "Epoch 60/100\n",
      " - 1s - loss: 2.4888e-04\n",
      "Epoch 61/100\n",
      " - 1s - loss: 2.4641e-04\n",
      "Epoch 62/100\n",
      " - 1s - loss: 2.4450e-04\n",
      "Epoch 63/100\n",
      " - 1s - loss: 2.4690e-04\n",
      "Epoch 64/100\n",
      " - 1s - loss: 2.4758e-04\n",
      "Epoch 65/100\n",
      " - 1s - loss: 2.4251e-04\n",
      "Epoch 66/100\n",
      " - 1s - loss: 2.4716e-04\n",
      "Epoch 67/100\n",
      " - 1s - loss: 2.4321e-04\n",
      "Epoch 68/100\n",
      " - 1s - loss: 2.4998e-04\n",
      "Epoch 69/100\n",
      " - 1s - loss: 2.4610e-04\n",
      "Epoch 70/100\n",
      " - 2s - loss: 2.4914e-04\n",
      "Epoch 71/100\n",
      " - 2s - loss: 2.4346e-04\n",
      "Epoch 72/100\n",
      " - 2s - loss: 2.4912e-04\n",
      "Epoch 73/100\n",
      " - 2s - loss: 2.4780e-04\n",
      "Epoch 74/100\n",
      " - 2s - loss: 2.4725e-04\n",
      "Epoch 75/100\n",
      " - 2s - loss: 2.4230e-04\n",
      "Epoch 76/100\n",
      " - 2s - loss: 2.6194e-04\n",
      "Epoch 77/100\n",
      " - 2s - loss: 2.4767e-04\n",
      "Epoch 78/100\n",
      " - 2s - loss: 2.4748e-04\n",
      "Epoch 79/100\n",
      " - 2s - loss: 2.4696e-04\n",
      "Epoch 80/100\n",
      " - 2s - loss: 2.3992e-04\n",
      "Epoch 81/100\n",
      " - 2s - loss: 2.5064e-04\n",
      "Epoch 82/100\n",
      " - 1s - loss: 2.4642e-04\n",
      "Epoch 83/100\n",
      " - 1s - loss: 2.5015e-04\n",
      "Epoch 84/100\n",
      " - 1s - loss: 2.4895e-04\n",
      "Epoch 85/100\n",
      " - 2s - loss: 2.5721e-04\n",
      "Epoch 86/100\n",
      " - 1s - loss: 2.4422e-04\n",
      "Epoch 87/100\n",
      " - 2s - loss: 2.4779e-04\n",
      "Epoch 88/100\n",
      " - 2s - loss: 2.4724e-04\n",
      "Epoch 89/100\n",
      " - 2s - loss: 2.4545e-04\n",
      "Epoch 90/100\n",
      " - 1s - loss: 2.3982e-04\n",
      "Epoch 91/100\n",
      " - 1s - loss: 2.5111e-04\n",
      "Epoch 92/100\n",
      " - 2s - loss: 2.3964e-04\n",
      "Epoch 93/100\n",
      " - 2s - loss: 2.3859e-04\n",
      "Epoch 94/100\n",
      " - 2s - loss: 2.4565e-04\n",
      "Epoch 95/100\n",
      " - 2s - loss: 2.4946e-04\n",
      "Epoch 96/100\n",
      " - 2s - loss: 2.5029e-04\n",
      "Epoch 97/100\n",
      " - 2s - loss: 2.5002e-04\n",
      "Epoch 98/100\n",
      " - 1s - loss: 2.4743e-04\n",
      "Epoch 99/100\n",
      " - 1s - loss: 2.3789e-04\n",
      "Epoch 100/100\n",
      " - 1s - loss: 2.5043e-04\n"
     ]
    },
    {
     "data": {
      "text/plain": [
       "<keras.callbacks.History at 0x7f41d7d72908>"
      ]
     },
     "execution_count": 11,
     "metadata": {},
     "output_type": "execute_result"
    }
   ],
   "source": [
    "#Creating the LSTM model and fitting to it\n",
    "model = Sequential()\n",
    "model.add(LSTM(4, input_dim=look_back))\n",
    "model.add(Dense(1))\n",
    "model.compile(loss='mean_squared_error', optimizer='adam')\n",
    "model.fit(trainX, trainY, nb_epoch=100, batch_size=1, verbose=2)"
   ]
  },
  {
   "cell_type": "code",
   "execution_count": 12,
   "metadata": {
    "collapsed": true
   },
   "outputs": [],
   "source": [
    "#Creating PRediction Results\n",
    "trainPredict = model.predict(trainX)\n",
    "testPredict = model.predict(testX)"
   ]
  },
  {
   "cell_type": "code",
   "execution_count": 13,
   "metadata": {
    "collapsed": true
   },
   "outputs": [],
   "source": [
    "#Inverting the Predictions\n",
    "trainPredict = scaler.inverse_transform(trainPredict)\n",
    "trainY = scaler.inverse_transform([trainY])\n",
    "testPredict = scaler.inverse_transform(testPredict)\n",
    "testY = scaler.inverse_transform([testY])"
   ]
  },
  {
   "cell_type": "code",
   "execution_count": 14,
   "metadata": {},
   "outputs": [
    {
     "name": "stdout",
     "output_type": "stream",
     "text": [
      "[   11027.00002435    12702.99944807    13159.00052606    12220.99950383\n",
      "    11531.99992768    13654.99975855    13500.99968896    12974.00033988\n",
      "    13618.99970809    13505.00042594    14951.00025865    13148.99934185\n",
      "    12195.99983448    13230.00011362    15300.00038215    14351.99949218\n",
      "    12694.00009369    14982.00037524    15403.00059966    14134.99999253\n",
      "    14856.00019863    16290.00045334    16798.00058029    14446.00035531\n",
      "    13284.00018931    15992.99937881    17141.00025656    16200.00032719\n",
      "    13854.00054944    17634.0005819     18277.99943674    14838.0001734\n",
      "    14671.00001245    16172.00043421    16308.00047857    15534.99990703\n",
      "    16770.99988421    16947.9999129     16667.99966671    17118.00029746\n",
      "    14444.99984195    16280.99978249    16700.99949355    14977.99963826\n",
      "    17095.99953525    18244.9996099     19885.99949652    17864.00017291\n",
      "    16987.99938387    18570.9997743     20257.99957912    20467.99943465\n",
      "    16531.00042546    21019.00057266    21031.99934755    17824.99989884\n",
      "    19326.99951749    19737.99987417    22929.99952127    19673.99993074\n",
      "    18501.99989699    19554.00020136    22266.00093094    21311.00039685\n",
      "    20129.00049536    23641.00117609    24237.99959937    21791.00063083\n",
      "    23913.99914523    25337.0003353     29729.00122559    24504.99975421\n",
      "    24066.99870145    26357.00000972    29350.99937929    29076.00038343\n",
      "    25634.00009337    31159.00074332    33546.9997023     29001.99925579\n",
      "    30751.99980716    31148.00036222    35570.00085573    30782.99992375\n",
      "    28878.9993028     31072.00084079    35549.00060689    34114.00115528\n",
      "    31356.99970439    34943.0001963     38365.00075088    33022.99926037\n",
      "    36237.00098614    36340.00120365    42089.99887782    37131.99968085\n",
      "    35154.00056519    38858.00107622    43755.00055337    41822.00084256\n",
      "    37320.99928753    45683.99821075    47886.00173606    43588.99958933\n",
      "    47946.00094251    49993.99913237    58243.00008991    48859.00097891\n",
      "    43746.00119899    49348.99976417    58256.00149774    56987.99825768\n",
      "    52884.99828443    62956.99777469    68000.00111334    58346.00030742\n",
      "    55454.000642      57082.99963416    70361.00200917    62375.99966638\n",
      "    54479.00037243    60113.00168712    65937.00048893    67709.99968294\n",
      "    61182.99806733    68404.99838985    77060.99765063    68806.99939215\n",
      "    75121.99749258    74252.99898059    90265.99941135    73856.0005451\n",
      "    76130.99941882    79350.9989589     78938.99808886    80308.00051971\n",
      "    78714.99894508    84288.00053996    93503.99766019    85053.99883443\n",
      "    91529.99533211    93452.00256061   114086.00559224   101191.01026327\n",
      "    97305.00057443    98998.99607399   108029.00302641   104080.99837025\n",
      "   105184.99640712   113821.00646413   123209.99234435   113283.99408266\n",
      "   120406.99624112   124819.99738025   140413.00863167   126613.0015756\n",
      "   107737.00056928   114902.99320708   118573.9925748    114174.00864107\n",
      "   120309.00912213   124889.99118859   136623.00083267   117990.99870563\n",
      "   123795.00830368   125166.99647703   152456.00890992   129838.99366411\n",
      "   117524.99117758   128896.0045562    129237.00057282   126821.99301898\n",
      "   128888.00044932   134182.99097654   155478.00159014   139072.99475897\n",
      "   141101.00374506   145182.99293774   170855.99725458   148024.99853031\n",
      "   138977.99864834   142358.00660402   144776.99514787   147145.01016894\n",
      "   147230.00114596   155606.00410994   174385.0079789    154372.99250819\n",
      "   156788.00006203   158554.99091001   191284.98456697   167788.00202323\n",
      "   147337.00341691   161478.0064896    164167.99724172   161789.99815049\n",
      "   170447.00845634   182837.99781302   199960.99409495   172768.99986284\n",
      "   177291.00429964   187406.00480095   213437.00332981   187573.98572828\n",
      "   168271.99772833   183519.98984625   188723.98631629   191493.99707379\n",
      "   195128.99902398   205854.9867051    229990.00188454   202498.99107007\n",
      "   209059.99960821   215824.98649121   232313.00433612   208225.00275289\n",
      "   184415.98642138   205631.98807468   214302.98450414   209814.99752158\n",
      "   231142.00349927   239552.9928357    252610.99812036   224759.99206714\n",
      "   237347.98777031   244981.98896287   267393.00377367   235029.99841725\n",
      "   227555.00512693   246261.9930974    240342.99818496   246875.99234901\n",
      "   264752.99656268   271504.98730371   298605.98747864   250090.98932228\n",
      "   267686.98619407   275383.98813317   316631.00447931   271695.00058841\n",
      "   265568.99419587   272334.00214231   275944.00179021   274594.99382899\n",
      "   311812.99553194   318492.99143792   344176.99087      289059.00474125\n",
      "   307744.99246287   314739.00211989   350940.98777136   315468.99773098\n",
      "   277432.99736811   298031.987698     291147.99238372   294787.986369\n",
      "   335717.99795572   338064.00168286   346209.99189117   295236.99570164\n",
      "   315450.98849049   323149.00147468   356711.99096023   300960.98529431\n",
      "   288662.99102154   307880.99908955   292871.00277073   308902.99715776\n",
      "   338558.00252156   328600.99887742   340723.99809762   310620.0044646\n",
      "   320815.99388949   314847.98435412   377273.99389094   315985.99984524\n",
      "   314133.9969568    322276.99615675   338331.99181934   339985.99837965\n",
      "   369956.97639435   356897.01220984   374407.97597773   345374.99503586\n",
      "   352783.99657128   344060.00452888   406556.00787404   334654.98937146\n",
      "   327810.00354652   363037.00472598   344260.99186538   340648.00120912\n",
      "   394034.00392577   368821.99403846   386579.98982086   346415.99232619\n",
      "   348698.9953068    347525.99344323   421099.00668316   351690.00366801\n",
      "   335960.98578991   350807.00323484   339868.9909751    343196.99329948\n",
      "   397467.00749438   374863.99943562   405324.97623557   366204.98810304\n",
      "   372229.00532315   369298.99668176   438663.00819086   387737.00453411\n",
      "   370151.98171412   389744.98218956   384072.00824655   393554.97919232\n",
      "   444972.01374285   439285.98046756   462815.99048391   409104.00998276\n",
      "   418927.99800859   413715.97636823   503079.97612429   434586.01103327\n",
      "   427019.98155888   460888.98068861   441330.98764906   432584.01539454\n",
      "   489883.98424967   492727.00088731   503541.9815989    459638.99195489\n",
      "   478253.00590489   490337.9856174    575657.00464338   503277.00353422\n",
      "   479226.97933181   531120.97439876   493376.00757482   499418.98189017\n",
      "   556165.99334038   563252.99808131   564009.00703976   547358.99028424\n",
      "   547632.01458268   562759.98722425   643359.99546694   575998.99064164\n",
      "   550233.01230434   593583.00241655   569758.98891635   568500.99607575\n",
      "   625305.97411054   614921.99349112   634344.00096742   578388.00591156\n",
      "   593080.00748932   613761.98776951   719355.99930416   567831.97912105\n",
      "   509003.98413525   557523.99539012   573538.99158174   578018.00553921\n",
      "   695233.98026669   655007.99307056   694304.99834582   642881.98177856\n",
      "   647558.99206417   671301.99557734   792334.07570493   645686.99997196\n",
      "   685426.00045462   647530.00877188   669027.98668526   636004.97952609\n",
      "   740278.06066393   735130.07187863   750683.06259564   695112.99187213\n",
      "   684322.99239939   717685.03667533   839139.05961624   769736.0386178\n",
      "   664491.00614321   750191.02065678   735878.0767302    713533.01154743\n",
      "   837561.9977992    810358.06059708   858063.04313697   748803.02426967\n",
      "   781943.05989682   802417.05977871   948383.07026977   789343.06734372\n",
      "   783258.00827692   853195.02958503   786429.0669161    760151.07849961\n",
      "   864228.05901883   874790.02569919   906320.05629045   818304.03238709\n",
      "   833020.04628551   849365.02231506  1015697.01937198   859225.99774006\n",
      "   832140.01579726   887759.03795339   818419.03876493   824853.07689179\n",
      "   942016.01387945   953656.00737619   971243.05228633   904811.9983001\n",
      "   915900.045437     924870.03738539  1084845.00424902   890630.06896512\n",
      "   901146.03309434   965904.0602347    895006.0405782    890622.06485824\n",
      "  1053528.05140834   975918.04048178  1004871.00141827   897453.02243269\n",
      "   946842.9958519    992707.0338089   1172766.07416863   953462.05522837\n",
      "   970646.03016668  1030349.00041533   937719.99908143   947564.03950134\n",
      "  1072036.07413247  1044618.0481347   1020296.01067892   966847.02827917\n",
      "   896778.06558814   949830.04428654  1125822.99835016   893575.07477519\n",
      "   864256.03126604   898977.00438305   903140.06675306   929296.05572992\n",
      "   974009.01886352   944507.06044867   983613.02033072   892006.01706503]\n",
      "[    6631.64208984     5810.2734375      7559.47607422     8035.40185547\n",
      "     7056.42333984     6337.33300781     8553.09667969     8392.35351562\n",
      "     7842.32128906     8515.52441406     8396.53222656     9905.78515625\n",
      "     8024.97265625     7030.33349609     8109.51367188    10270.05078125\n",
      "     9280.57519531     7550.08203125     9938.14355469    10377.55371094\n",
      "     9054.07226562     9806.61816406    11303.38671875    11833.64257812\n",
      "     9378.68359375     8165.86865234    10993.375         12191.67089844\n",
      "    11209.44335938     8760.79785156    12706.27246094    13378.49902344\n",
      "     9787.83300781     9613.52734375    11180.22363281    11322.19140625\n",
      "    10515.33984375    11805.46289062    11990.20703125    11697.95214844\n",
      "    12167.6640625      9377.640625      11293.9921875     11732.390625\n",
      "     9933.96289062    12144.69433594    13344.04980469    15057.00976562\n",
      "    12946.34570312    12031.95996094    13684.32910156    15445.34570312\n",
      "    15664.54492188    11554.94726562    16239.73535156    16253.31542969\n",
      "    12905.640625      14473.49511719    14902.51757812    18234.6796875\n",
      "    14835.71972656    13612.31054688    14710.45019531    17541.5078125\n",
      "    16544.57617188    15310.671875      18976.93164062    19600.1796875\n",
      "    17045.6484375     19261.9296875     20747.52539062    25332.93554688\n",
      "    19878.91796875    19421.65234375    21812.40039062    24938.26757812\n",
      "    24651.15625       21057.5859375     26825.99414062    29319.375\n",
      "    24573.89257812    26401.04101562    26814.51171875    31431.72265625\n",
      "    26433.41210938    24445.46484375    26735.15625       31409.78515625\n",
      "    29911.41015625    27032.734375      30777.02148438    34350.27734375\n",
      "    28772.24414062    32128.1953125     32235.74804688    38240.11328125\n",
      "    33062.75390625    30997.33789062    34865.08203125    39978.8515625\n",
      "    37960.24609375    33260.109375      41993.32421875    44292.953125\n",
      "    39805.48828125    44355.61328125    46494.4453125     55109.6875\n",
      "    45309.08984375    39969.45703125    45820.83203125    55123.26171875\n",
      "    53798.94140625    49513.73046875    60033.171875      65300.3515625\n",
      "    55217.26171875    52196.8046875     53898.1484375     67766.3359375\n",
      "    59426.34375       51178.51171875    57062.7734375     63145.6484375\n",
      "    64997.46484375    58180.33203125    65723.3515625     74764.1875\n",
      "    66143.234375      72738.984375      71831.34375       88555.7109375\n",
      "    71416.7109375     73792.84375       77155.9765625     76725.671875\n",
      "    78155.4921875     76491.703125      82312.3046875     91937.296875\n",
      "    83112.3359375     89875.7578125     91883.015625     113428.8984375\n",
      "    99964.7890625     95906.765625      97675.7578125    107104.9140625\n",
      "   102982.5625       104135.34375      113152.25         122953.6171875\n",
      "   112591.578125     120027.7109375    124634.140625     140906.34375\n",
      "   126505.5859375    106800.0625       114281.8359375    118114.25\n",
      "   113520.796875     119925.4296875    124707.1875       136951.9375\n",
      "   117505.6171875    123564.265625     124996.3046875    153468.625\n",
      "   129872.4921875    117019.140625     128888.34375      129244.234375\n",
      "   126723.71875      128879.984375     134405.828125     156620.09375\n",
      "   139508.25         141624.140625     145882.625        172651.09375\n",
      "   148847.15625      139409.15625      142935.578125     145459.09375\n",
      "   147929.265625     148017.921875     156753.59375      176328.453125\n",
      "   155467.796875     157986.109375     159828.5625       193930.3125\n",
      "   169453.640625     148129.515625     162876.09375      165680.359375\n",
      "   163201.34375      172224.890625     185134.34375      202960.53125\n",
      "   174644.59375      179356.203125     189891.515625     216977.703125\n",
      "   190066.46875      169958.109375     185844.65625      191263.890625\n",
      "   194147.875        197931.796875     209092.609375     234178.921875\n",
      "   205601.328125     212426.171875     219460.375        236591.28125\n",
      "   211557.75         186777.796875     208860.640625     217878.0625\n",
      "   213211.375        235375.296875     244107.296875     257652.703125\n",
      "   228746.171875     241818.6875       249740.609375     272969.03125\n",
      "   239412.359375     231649.78125      251068.421875     244927.1875\n",
      "   251705.34375      270235.           277226.25         305243.59375\n",
      "   255039.703125     273273.46875      281240.78125      323836.09375\n",
      "   277422.90625      271080.15625      278084.34375      281820.21875\n",
      "   280424.28125      318869.84375      325754.6875       352177.71875\n",
      "   295382.09375      314674.6875       321886.1875       359123.\n",
      "   322638.5625       283360.75         304650.96875      297540.71875\n",
      "   301300.90625      343484.           345896.           354265.8125\n",
      "   301764.65625      322620.03125      330550.40625      365044.03125\n",
      "   307674.71875      294972.875        314815.           299320.8125\n",
      "   315869.09375      346403.8125       336162.875        348629.96875\n",
      "   317639.78125      328147.65625      321998.53125      386104.75\n",
      "   323171.375        321262.59375      329652.40625      346171.46875\n",
      "   347871.53125      378616.875        365233.8125       383172.65625\n",
      "   353408.25         361014.375        352057.53125      415994.78125\n",
      "   342390.90625      335348.8125       371528.46875      352264.03125\n",
      "   348551.90625      403228.125        377454.625        395617.4375\n",
      "   354477.375        356821.5625       355617.1875       430792.1875\n",
      "   359891.78125      343733.875        358985.40625      347751.28125\n",
      "   351171.           406730.46875      383639.34375      414740.75\n",
      "   374774.34375      380942.75         377943.15625      448619.\n",
      "   396799.25         378816.46875      398849.90625      393054.96875\n",
      "   402739.1875       455010.0625       449250.34375      473049.90625\n",
      "   418589.71875      428585.28125      423284.09375      513548.5625\n",
      "   444485.40625      436807.3125       471104.40625      451322.4375\n",
      "   442454.65625      500308.375        503163.59375      514011.5\n",
      "   469842.03125      488611.6875       500764.4375       585753.8125\n",
      "   513745.96875      489592.125        541572.375        503815.21875\n",
      "   509878.59375      566469.125        573490.375        574238.875\n",
      "   557728.9375       558000.125        573002.3125       652083.75\n",
      "   586091.3125       560582.875        603417.4375       579926.75\n",
      "   578682.9375       634499.1875       624350.4375       643311.875\n",
      "   588449.25         602922.8125       623215.0625       725225.5625\n",
      "   578021.375        519481.65625      567815.3125       583662.0625\n",
      "   588084.25         702167.8125       663387.5625       701276.8125\n",
      "   651619.1875       656162.5625       679144.6875       794036.375\n",
      "   654344.5625       692749.75         656134.375        676949.375\n",
      "   644929.25         745100.8125       740221.25         754941.5625\n",
      "   702051.8125       691689.0625       723633.25         837383.25\n",
      "   772884.75         672565.9375       754476.875        740930.75\n",
      "   719673.375        835933.1875       810803.25         854727.8125\n",
      "   753165.625        784328.1875       803427.5          936016.125\n",
      "   791245.0625       785558.375        850276.25         788523.1875\n",
      "   763870.5          860355.3125       869970.0625       898471.125\n",
      "   818165.75         831752.4375       846768.9375       994934.\n",
      "   855790.25         830941.625        881729.8125       818272.0625\n",
      "   824219.8125       930368.375        940683.5625       956187.5625\n",
      "   897114.8125       907070.375        915096.5625      1053919.75\n",
      "   884326.25         893814.9375       951491.3125       888278.875\n",
      "   884319.          1027401.0625       960292.3125       985556.6875\n",
      "   890486.5625       934651.1875       974975.1875      1126607.25\n",
      "   940512.0625       955662.8125      1007564.25         926550.6875\n",
      "   935290.3125      1043112.875       1019796.75         998905.9375\n",
      "   952321.375        889877.75         937297.75        1088123.5\n",
      "   886986.8125       860380.8125       891860.75         895610.4375\n",
      "   919047.625        958616.9375       932579.625        967033.1875    ]\n",
      "Train Score: 42357.51 RMSE\n",
      "[ 1120795.07116809   990089.0168284    921602.0026723   1002099.05282436\n",
      "   952797.0403271    946610.03421475  1074059.00682972  1051683.06264514\n",
      "  1064156.07303391   999213.02464394  1045569.02028605  1065899.03049781\n",
      "  1162625.03925651  1045092.05976963  1042395.01276539  1100033.00769221\n",
      "  1118255.07316625  1056417.02847024  1174014.04081218  1180515.06067558\n",
      "  1158741.02532853  1121235.04428534  1142458.06006387  1133556.06089711\n",
      "  1272897.02999498  1164672.06852817  1004780.00736108  1158157.06254116\n",
      "  1095673.04429289  1082517.07295268  1195115.05715108  1195365.03804707\n",
      "  1170932.03839379  1081657.01060476   986199.02088369   978632.02249111\n",
      "  1219468.01573555  1083620.03888103  1042812.06886082  1177316.0297892\n",
      "  1112304.06182628  1113677.06104471  1199064.03072544  1169308.04723429\n",
      "  1165727.00981523  1105115.02578605  1121857.00551696  1094579.00926274\n",
      "  1341856.03369585  1160294.07482493  1075361.06438505  1053850.06926627\n",
      "   531246.97589183   447754.99957888   707533.97556617   994704.01634911\n",
      "  1060772.02089792  1052973.07191326  1079953.06263019  1109916.05760145\n",
      "  1313217.00225665  1185984.05627373  1031209.06276325  1110753.03442005\n",
      "  1125848.02171589  1101155.01496957  1259022.03709548  1266151.00020722\n",
      "  1211115.01404714  1142316.00823016  1201402.99926391  1259116.06428791\n",
      "  1442286.00610456  1190146.02334492  1088066.02536589  1238376.07529627\n",
      "  1208958.03362305  1222552.0402441   1365817.04380436  1380241.03418221\n",
      "  1305078.00511014  1252628.01950303  1274683.04112852  1332961.02759088\n",
      "  1504565.0349629   1335643.07742644  1218154.07840053  1349776.05532881\n",
      "  1361586.07290648  1301587.03495695  1446210.04056695  1458461.04230694\n",
      "  1396172.07150532  1314222.06531977  1412937.0525118   1422379.03400495\n",
      "  1660694.99738788  1431639.02738374  1297496.00954887  1458456.99812662\n",
      "  1423826.00802173  1370474.00169588  1540784.0398732   1527157.00577954\n",
      "  1486511.9825247   1393988.04562535  1476107.99163807  1509806.96668686\n",
      "  1723309.01918267  1521835.03298675  1409338.06904258  1575765.02008324\n",
      "  1475385.09440598  1482737.07721159  1584192.08082375  1568863.96338325\n",
      "  1501357.99996963  1395361.04484377  1500118.96422428  1462376.9884087\n",
      "  1707899.0070907   1492315.04426798  1249465.04922449  1396331.05834413\n",
      "  1412496.06834947  1331035.99775886  1490812.96829436  1543388.99752142\n",
      "  1529324.01240068  1481373.00889136  1602157.00383248  1609236.00446653\n",
      "  1888090.99987843  1681005.03945932  1499346.02026074  1674208.12040255\n",
      "  1617186.02043686  1613747.96164285  1787760.10988754  1794125.98672527\n",
      "  1681797.02477186  1644663.02406429  1737287.05442655  1738373.08534982\n",
      "  2016952.06545492  1859658.05312801  1670470.96077241  1816429.97820167\n",
      "  1831258.97638776  1818880.07744516  1990616.0262001   2056049.01018501\n",
      "  1871360.05738964  1861845.11214322  1893500.0910556   1865818.01378447\n",
      "  2242262.9559758   2109494.0326582   1850999.96858676  2087238.06582309\n",
      "  2054887.99341832  1972646.04796596  2184433.03099132  2148192.96264185\n",
      "  2079441.05467484  1949613.09298699  2075009.9811049   2102448.05949676\n",
      "  2441550.05166402  2160774.07060041  2001547.10858835  2251713.0258296\n",
      "  2112174.98719492  2091319.99182545  2315860.97151803  2263773.10855701\n",
      "  2300798.08490347  2115158.075703    2150448.09869245  2164238.07955148\n",
      "  2572554.02728724  2265436.10920585  2060429.02597841  2211879.02923631\n",
      "  2159701.01475567  2130909.98953947  2302984.97541118  2274042.96746305\n",
      "  2277703.1191596   2093055.95622754  2209537.11181636  2134127.9775211\n",
      "  2548963.98646927  2243305.0064381   2018728.97718275  2237167.12026587\n",
      "  2181441.01158504  2177764.00913715  2372653.05872804  2453898.95626924\n",
      "  2453913.11090036  2177750.02301355  2275334.07203001  2255303.07840061\n",
      "  2643838.09765673  2490195.98015821  2272357.04979241  2437156.04974701\n",
      "  2384191.10517923  2366788.99726494  2425547.06163272  2609911.97447999\n",
      "  2438965.98894745  2258798.09273412  2347744.10960342  2333955.98232704\n",
      "  2838113.94840669  2642038.10039958  2348046.07506727  2543155.02696302\n",
      "  2573279.95765457  2469050.98335834]\n",
      "[  929495.5625  1083957.25     972691.5      912175.3125   983149.6875\n",
      "   939923.8125   934444.6875  1044823.1875  1025828.5625  1036437.3125\n",
      "   980640.75    1020609.5625  1037915.6875  1118357.25    1020201.9375\n",
      "  1017895.4375  1066662.875   1081849.375   1029861.125   1127620.\n",
      "  1132887.5     1115188.125   1084322.125   1101846.75    1094514.625\n",
      "  1206165.875   1120025.5      985477.75    1114711.375   1063012.75\n",
      "  1051960.      1144664.25    1144865.125   1125117.875   1051235.25\n",
      "   969294.3125   962671.875   1164145.      1052888.75    1018252.25\n",
      "  1130297.375   1076902.      1078044.375   1147837.125   1123798.\n",
      "  1120884.5     1070909.375   1084837.875   1062095.75    1258934.125\n",
      "  1116456.125   1045923.4375  1027675.5      541698.       457827.125\n",
      "   713944.       976715.6875  1033564.0625  1026928.1875  1049799.\n",
      "  1074913.5     1237220.375   1137307.375   1008303.4375  1075610.625\n",
      "  1088144.25    1067601.125   1195348.5     1200914.75    1157486.25\n",
      "  1101729.875   1149713.75    1195422.125   1332816.625   1140664.375\n",
      "  1056628.75    1179128.75    1155762.5     1166597.25    1276881.\n",
      "  1287588.      1230997.25    1190341.125   1207553.375   1252220.625\n",
      "  1376867.      1254247.875   1163099.      1264888.5     1273726.5\n",
      "  1228320.875   1335631.875   1344387.125   1299329.375   1237987.25\n",
      "  1311589.625   1318451.375   1481413.125   1325150.625   1225179.25\n",
      "  1344384.      1319500.5     1280345.75    1401866.125   1392513.875\n",
      "  1364236.625   1297725.      1356906.375   1380513.25    1521010.125\n",
      "  1388843.75    1308966.      1425580.625   1356395.75    1361581.375\n",
      "  1431230.875   1420935.75    1374631.5     1298733.75    1373767.\n",
      "  1347174.375   1511387.25    1368308.75    1187858.875   1299446.\n",
      "  1311268.375   1250764.125   1367256.      1403646.5     1394005.25\n",
      "  1360620.625   1443194.5     1447878.25    1619018.      1494401.75\n",
      "  1373227.25    1490070.625   1453118.      1450854.75    1560402.375\n",
      "  1564218.625   1494905.5     1471061.875   1529670.375   1530340.625\n",
      "  1689604.      1602737.125   1487682.625   1577485.25    1586216.\n",
      "  1578932.75    1675598.125   1710005.375   1609469.125   1603998.875\n",
      "  1622086.      1606286.625   1800962.25    1737149.125   1597727.875\n",
      "  1725949.5     1709406.125   1665919.      1773791.125   1756276.\n",
      "  1721990.875   1653365.875   1719733.25    1733619.625   1887549.25\n",
      "  1762399.5     1681437.375   1805312.875   1738488.5     1728014.75\n",
      "  1834188.25    1810828.375   1827509.5     1739976.375   1757376.875\n",
      "  1764077.75    1938840.875   1811585.625   1712262.      1786805.\n",
      "  1761879.      1747788.125   1828483.      1815493.25    1817148.75\n",
      "  1728891.5     1785703.125   1749375.125   1929919.375   1801443.25\n",
      "  1690541.375   1798606.25    1772359.125   1770596.25    1858817.5\n",
      "  1892568.75    1892574.75    1770589.875   1816077.75    1806959.125\n",
      "  1964986.875   1907097.25    1814729.5     1885753.625   1863716.125\n",
      "  1856314.625   1880985.625   1952694.375   1886493.875   1808558.\n",
      "  1848121.625   1842129.875   2030314.875   1964341.5     1848252.625\n",
      "  1927701.875   1939113.5   ]\n",
      "Test Score: 302218.20 RMSE\n"
     ]
    }
   ],
   "source": [
    "trainScore = math.sqrt(mean_squared_error(trainY[0], trainPredict[:,0]))\n",
    "print(trainY[0])\n",
    "print(trainPredict[:,0])\n",
    "print('Train Score: %.2f RMSE' % (trainScore))\n",
    "testScore = math.sqrt(mean_squared_error(testY[0], testPredict[:,0]))\n",
    "print(testY[0])\n",
    "print(testPredict[:,0])\n",
    "print('Test Score: %.2f RMSE' % (testScore))"
   ]
  },
  {
   "cell_type": "code",
   "execution_count": 15,
   "metadata": {},
   "outputs": [
    {
     "name": "stdout",
     "output_type": "stream",
     "text": [
      "Train Score: 42357.51 RMSE\n",
      "Test Score: 302218.20 RMSE\n"
     ]
    }
   ],
   "source": [
    "# calculate root mean squared error\n",
    "trainScore = math.sqrt(mean_squared_error(trainY[0], trainPredict[:,0]))\n",
    "print('Train Score: %.2f RMSE' % (trainScore))\n",
    "testScore = math.sqrt(mean_squared_error(testY[0], testPredict[:,0]))\n",
    "print('Test Score: %.2f RMSE' % (testScore))"
   ]
  },
  {
   "cell_type": "code",
   "execution_count": 16,
   "metadata": {
    "collapsed": true
   },
   "outputs": [],
   "source": [
    "# Shift Dataset to Plot\n",
    "trainPredictPlot = np.empty_like(dataset)\n",
    "trainPredictPlot[:, :] = np.nan\n",
    "trainPredictPlot[look_back:len(trainPredict)+look_back, :] = trainPredict"
   ]
  },
  {
   "cell_type": "code",
   "execution_count": 17,
   "metadata": {
    "collapsed": true
   },
   "outputs": [],
   "source": [
    "#Shift Prediction to plot\n",
    "testPredictPlot = np.empty_like(dataset)\n",
    "testPredictPlot[:, :] = np.nan\n",
    "testPredictPlot[len(trainPredict)+(look_back*2)+1:len(dataset)-1, :] = testPredict"
   ]
  },
  {
   "cell_type": "code",
   "execution_count": 18,
   "metadata": {
    "scrolled": true
   },
   "outputs": [
    {
     "data": {
      "image/png": "[encoded data removed]",
      "text/plain": [
       "<matplotlib.figure.Figure at 0x7f41d53f9ac8>"
      ]
     },
     "metadata": {},
     "output_type": "display_data"
    }
   ],
   "source": [
    "plt.plot(scaler.inverse_transform(dataset))\n",
    "plt.plot(trainPredictPlot)\n",
    "plt.plot(testPredictPlot)\n",
    "plt.xlabel('Total Air Passenger Traffic', fontsize=14)\n",
    "plt.ylabel('Months', fontsize=14)\n",
    "plt.title('Total Air Passenger Traffic in Singapore', fontsize = 16)\n",
    "plt.show()\n"
   ]
  },
  {
   "cell_type": "markdown",
   "metadata": {
    "collapsed": true
   },
   "source": [
    "### Fig.2: This figure shows the actual and predicted values of total Air Passenger Traffic in Singapore based on the model. The plot in Blue is the actual value, the plot in orange is for the training data and the plot in Green is for the Prediction data"
   ]
  },
  {
   "cell_type": "code",
   "execution_count": null,
   "metadata": {
    "collapsed": true
   },
   "outputs": [],
   "source": []
  }
 ],
 "metadata": {
  "kernelspec": {
   "display_name": "Python 3",
   "language": "python",
   "name": "python3"
  },
  "language_info": {
   "codemirror_mode": {
    "name": "ipython",
    "version": 3
   },
   "file_extension": ".py",
   "mimetype": "text/x-python",
   "name": "python",
   "nbconvert_exporter": "python",
   "pygments_lexer": "ipython3",
   "version": "3.6.2"
  }
 },
 "nbformat": 4,
 "nbformat_minor": 2
}
