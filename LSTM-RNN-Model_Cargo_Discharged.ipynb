{
 "cells": [
  {
   "cell_type": "markdown",
   "metadata": {},
   "source": [
    "## Program to Predict Air Cargo Discharged in Singapore using RNN"
   ]
  },
  {
   "cell_type": "code",
   "execution_count": 1,
   "metadata": {
    "scrolled": true
   },
   "outputs": [
    {
     "name": "stderr",
     "output_type": "stream",
     "text": [
      "Using TensorFlow backend.\n",
      "/home/pui-user/anaconda3/lib/python3.6/importlib/_bootstrap.py:205: RuntimeWarning: compiletime version 3.5 of module 'tensorflow.python.framework.fast_tensor_util' does not match runtime version 3.6\n",
      "  return f(*args, **kwds)\n"
     ]
    }
   ],
   "source": [
    "from __future__ import print_function, division\n",
    "import numpy as np\n",
    "import matplotlib.pyplot as plt\n",
    "import pandas as pd\n",
    "import math\n",
    "from keras.models import Sequential\n",
    "from keras.layers import Dense\n",
    "from keras.layers import LSTM\n",
    "from sklearn.preprocessing import MinMaxScaler\n",
    "from sklearn.metrics import mean_squared_error"
   ]
  },
  {
   "cell_type": "code",
   "execution_count": 2,
   "metadata": {
    "collapsed": true
   },
   "outputs": [],
   "source": [
    "# Assigning a random seed for reproducability\n",
    "np.random.seed(666)"
   ]
  },
  {
   "cell_type": "code",
   "execution_count": 3,
   "metadata": {
    "collapsed": true
   },
   "outputs": [],
   "source": [
    "# Loading the File\n",
    "dataframe = pd.read_csv('total-air-cargo-discharged-in-tonnes.csv', \\\n",
    "                        usecols=[1], engine='python', skipfooter=3)"
   ]
  },
  {
   "cell_type": "code",
   "execution_count": 4,
   "metadata": {},
   "outputs": [],
   "source": [
    "#Converting to a Float datatype to convert to Numpy Array\n",
    "dataset = dataframe.values\n",
    "dataset = dataset.astype('float32')"
   ]
  },
  {
   "cell_type": "code",
   "execution_count": 5,
   "metadata": {
    "scrolled": true
   },
   "outputs": [
    {
     "data": {
      "image/png": "[encoded data removed]",
      "text/plain": [
       "<matplotlib.figure.Figure at 0x7fbf5830f240>"
      ]
     },
     "metadata": {},
     "output_type": "display_data"
    }
   ],
   "source": [
    "plt.plot(dataset)\n",
    "plt.xlabel('Total Cargo Discharged in Tonnes', fontsize=14)\n",
    "plt.ylabel('Months', fontsize=14)\n",
    "plt.title('Total Cargo Discharged in Tonnes in Singapore', fontsize = 16)\n",
    "plt.show()"
   ]
  },
  {
   "cell_type": "markdown",
   "metadata": {},
   "source": [
    "### Fig.1: This figure shows the overall Air Cargo Discharged in Singapore in tonnes as a function of months."
   ]
  },
  {
   "cell_type": "code",
   "execution_count": 6,
   "metadata": {
    "collapsed": true
   },
   "outputs": [],
   "source": [
    "# Assigning Range\n",
    "scaler = MinMaxScaler(feature_range=(0, 1))\n",
    "dataset = scaler.fit_transform(dataset)"
   ]
  },
  {
   "cell_type": "code",
   "execution_count": 7,
   "metadata": {},
   "outputs": [
    {
     "name": "stdout",
     "output_type": "stream",
     "text": [
      "train_data_size: 253  test_data_size: 125\n"
     ]
    }
   ],
   "source": [
    "#Dividing Training and Test Sample\n",
    "train_size = int(len(dataset) * 0.67)\n",
    "test_size = len(dataset) - train_size\n",
    "train, test = dataset[0:train_size,:], dataset[train_size:len(dataset),:]\n",
    "print (\"train_data_size: \" + str(len(train)), \" test_data_size: \"+str(len(test)))"
   ]
  },
  {
   "cell_type": "code",
   "execution_count": 8,
   "metadata": {
    "collapsed": true
   },
   "outputs": [],
   "source": [
    "#Function to Create Nump Dataset\n",
    "def create_dataset(dataset, look_back=1):\n",
    "    dataX, dataY = [], []\n",
    "    for i in range(len(dataset)-look_back-1):\n",
    "        a = dataset[i:(i+look_back), 0]\n",
    "        dataX.append(a)\n",
    "        dataY.append(dataset[i + look_back, 0])\n",
    "    return np.array(dataX), np.array(dataY)"
   ]
  },
  {
   "cell_type": "code",
   "execution_count": 9,
   "metadata": {
    "collapsed": true
   },
   "outputs": [],
   "source": [
    "# Assigning X to t and Y to t+!\n",
    "look_back = 1\n",
    "trainX, trainY = create_dataset(train, look_back)\n",
    "testX, testY = create_dataset(test, look_back)"
   ]
  },
  {
   "cell_type": "code",
   "execution_count": 10,
   "metadata": {
    "collapsed": true
   },
   "outputs": [],
   "source": [
    "# Reshaping the Array\n",
    "trainX = np.reshape(trainX, (trainX.shape[0], 1, trainX.shape[1]))\n",
    "testX = np.reshape(testX, (testX.shape[0], 1, testX.shape[1]))\n"
   ]
  },
  {
   "cell_type": "code",
   "execution_count": 11,
   "metadata": {},
   "outputs": [
    {
     "name": "stderr",
     "output_type": "stream",
     "text": [
      "/home/pui-user/anaconda3/lib/python3.6/site-packages/ipykernel_launcher.py:3: UserWarning: The `input_dim` and `input_length` arguments in recurrent layers are deprecated. Use `input_shape` instead.\n",
      "  This is separate from the ipykernel package so we can avoid doing imports until\n",
      "/home/pui-user/anaconda3/lib/python3.6/site-packages/ipykernel_launcher.py:3: UserWarning: Update your `LSTM` call to the Keras 2 API: `LSTM(4, input_shape=(None, 1))`\n",
      "  This is separate from the ipykernel package so we can avoid doing imports until\n",
      "/home/pui-user/anaconda3/lib/python3.6/site-packages/keras/models.py:939: UserWarning: The `nb_epoch` argument in `fit` has been renamed `epochs`.\n",
      "  warnings.warn('The `nb_epoch` argument in `fit` '\n"
     ]
    },
    {
     "name": "stdout",
     "output_type": "stream",
     "text": [
      "Epoch 1/100\n",
      " - 2s - loss: 0.0637\n",
      "Epoch 2/100\n",
      " - 1s - loss: 0.0192\n",
      "Epoch 3/100\n",
      " - 1s - loss: 0.0127\n",
      "Epoch 4/100\n",
      " - 1s - loss: 0.0072\n",
      "Epoch 5/100\n",
      " - 1s - loss: 0.0038\n",
      "Epoch 6/100\n",
      " - 1s - loss: 0.0024\n",
      "Epoch 7/100\n",
      " - 1s - loss: 0.0020\n",
      "Epoch 8/100\n",
      " - 1s - loss: 0.0020\n",
      "Epoch 9/100\n",
      " - 1s - loss: 0.0019\n",
      "Epoch 10/100\n",
      " - 1s - loss: 0.0019\n",
      "Epoch 11/100\n",
      " - 1s - loss: 0.0020\n",
      "Epoch 12/100\n",
      " - 1s - loss: 0.0019\n",
      "Epoch 13/100\n",
      " - 1s - loss: 0.0019\n",
      "Epoch 14/100\n",
      " - 1s - loss: 0.0020\n",
      "Epoch 15/100\n",
      " - 1s - loss: 0.0019\n",
      "Epoch 16/100\n",
      " - 1s - loss: 0.0019\n",
      "Epoch 17/100\n",
      " - 1s - loss: 0.0020\n",
      "Epoch 18/100\n",
      " - 1s - loss: 0.0019\n",
      "Epoch 19/100\n",
      " - 1s - loss: 0.0019\n",
      "Epoch 20/100\n",
      " - 1s - loss: 0.0019\n",
      "Epoch 21/100\n",
      " - 1s - loss: 0.0019\n",
      "Epoch 22/100\n",
      " - 1s - loss: 0.0019\n",
      "Epoch 23/100\n",
      " - 1s - loss: 0.0020\n",
      "Epoch 24/100\n",
      " - 1s - loss: 0.0018\n",
      "Epoch 25/100\n",
      " - 1s - loss: 0.0019\n",
      "Epoch 26/100\n",
      " - 1s - loss: 0.0019\n",
      "Epoch 27/100\n",
      " - 1s - loss: 0.0019\n",
      "Epoch 28/100\n",
      " - 1s - loss: 0.0019\n",
      "Epoch 29/100\n",
      " - 1s - loss: 0.0019\n",
      "Epoch 30/100\n",
      " - 1s - loss: 0.0019\n",
      "Epoch 31/100\n",
      " - 1s - loss: 0.0019\n",
      "Epoch 32/100\n",
      " - 1s - loss: 0.0019\n",
      "Epoch 33/100\n",
      " - 1s - loss: 0.0019\n",
      "Epoch 34/100\n",
      " - 1s - loss: 0.0019\n",
      "Epoch 35/100\n",
      " - 1s - loss: 0.0019\n",
      "Epoch 36/100\n",
      " - 1s - loss: 0.0019\n",
      "Epoch 37/100\n",
      " - 1s - loss: 0.0019\n",
      "Epoch 38/100\n",
      " - 1s - loss: 0.0019\n",
      "Epoch 39/100\n",
      " - 1s - loss: 0.0019\n",
      "Epoch 40/100\n",
      " - 1s - loss: 0.0018\n",
      "Epoch 41/100\n",
      " - 1s - loss: 0.0019\n",
      "Epoch 42/100\n",
      " - 1s - loss: 0.0019\n",
      "Epoch 43/100\n",
      " - 1s - loss: 0.0019\n",
      "Epoch 44/100\n",
      " - 1s - loss: 0.0019\n",
      "Epoch 45/100\n",
      " - 1s - loss: 0.0019\n",
      "Epoch 46/100\n",
      " - 1s - loss: 0.0019\n",
      "Epoch 47/100\n",
      " - 1s - loss: 0.0019\n",
      "Epoch 48/100\n",
      " - 1s - loss: 0.0019\n",
      "Epoch 49/100\n",
      " - 1s - loss: 0.0019\n",
      "Epoch 50/100\n",
      " - 1s - loss: 0.0018\n",
      "Epoch 51/100\n",
      " - 0s - loss: 0.0018\n",
      "Epoch 52/100\n",
      " - 0s - loss: 0.0019\n",
      "Epoch 53/100\n",
      " - 0s - loss: 0.0019\n",
      "Epoch 54/100\n",
      " - 0s - loss: 0.0019\n",
      "Epoch 55/100\n",
      " - 0s - loss: 0.0019\n",
      "Epoch 56/100\n",
      " - 0s - loss: 0.0019\n",
      "Epoch 57/100\n",
      " - 0s - loss: 0.0019\n",
      "Epoch 58/100\n",
      " - 0s - loss: 0.0019\n",
      "Epoch 59/100\n",
      " - 0s - loss: 0.0019\n",
      "Epoch 60/100\n",
      " - 0s - loss: 0.0019\n",
      "Epoch 61/100\n",
      " - 0s - loss: 0.0019\n",
      "Epoch 62/100\n",
      " - 0s - loss: 0.0019\n",
      "Epoch 63/100\n",
      " - 0s - loss: 0.0019\n",
      "Epoch 64/100\n",
      " - 0s - loss: 0.0019\n",
      "Epoch 65/100\n",
      " - 0s - loss: 0.0019\n",
      "Epoch 66/100\n",
      " - 0s - loss: 0.0019\n",
      "Epoch 67/100\n",
      " - 0s - loss: 0.0019\n",
      "Epoch 68/100\n",
      " - 0s - loss: 0.0019\n",
      "Epoch 69/100\n",
      " - 0s - loss: 0.0019\n",
      "Epoch 70/100\n",
      " - 0s - loss: 0.0019\n",
      "Epoch 71/100\n",
      " - 0s - loss: 0.0019\n",
      "Epoch 72/100\n",
      " - 0s - loss: 0.0019\n",
      "Epoch 73/100\n",
      " - 0s - loss: 0.0018\n",
      "Epoch 74/100\n",
      " - 0s - loss: 0.0019\n",
      "Epoch 75/100\n",
      " - 0s - loss: 0.0019\n",
      "Epoch 76/100\n",
      " - 0s - loss: 0.0019\n",
      "Epoch 77/100\n",
      " - 0s - loss: 0.0019\n",
      "Epoch 78/100\n",
      " - 0s - loss: 0.0018\n",
      "Epoch 79/100\n",
      " - 0s - loss: 0.0019\n",
      "Epoch 80/100\n",
      " - 0s - loss: 0.0019\n",
      "Epoch 81/100\n",
      " - 0s - loss: 0.0019\n",
      "Epoch 82/100\n",
      " - 0s - loss: 0.0019\n",
      "Epoch 83/100\n",
      " - 0s - loss: 0.0019\n",
      "Epoch 84/100\n",
      " - 0s - loss: 0.0019\n",
      "Epoch 85/100\n",
      " - 0s - loss: 0.0018\n",
      "Epoch 86/100\n",
      " - 0s - loss: 0.0019\n",
      "Epoch 87/100\n",
      " - 0s - loss: 0.0019\n",
      "Epoch 88/100\n",
      " - 0s - loss: 0.0019\n",
      "Epoch 89/100\n",
      " - 0s - loss: 0.0019\n",
      "Epoch 90/100\n",
      " - 0s - loss: 0.0019\n",
      "Epoch 91/100\n",
      " - 0s - loss: 0.0019\n",
      "Epoch 92/100\n",
      " - 0s - loss: 0.0019\n",
      "Epoch 93/100\n",
      " - 0s - loss: 0.0018\n",
      "Epoch 94/100\n",
      " - 0s - loss: 0.0019\n",
      "Epoch 95/100\n",
      " - 0s - loss: 0.0019\n",
      "Epoch 96/100\n",
      " - 0s - loss: 0.0019\n",
      "Epoch 97/100\n",
      " - 0s - loss: 0.0018\n",
      "Epoch 98/100\n",
      " - 0s - loss: 0.0019\n",
      "Epoch 99/100\n",
      " - 0s - loss: 0.0018\n",
      "Epoch 100/100\n",
      " - 0s - loss: 0.0018\n"
     ]
    },
    {
     "data": {
      "text/plain": [
       "<keras.callbacks.History at 0x7fbf502dee80>"
      ]
     },
     "execution_count": 11,
     "metadata": {},
     "output_type": "execute_result"
    }
   ],
   "source": [
    "#Creating the LSTM model and fitting to it\n",
    "model = Sequential()\n",
    "model.add(LSTM(4, input_dim=look_back))\n",
    "model.add(Dense(1))\n",
    "model.compile(loss='mean_squared_error', optimizer='adam')\n",
    "model.fit(trainX, trainY, nb_epoch=100, batch_size=1, verbose=2)"
   ]
  },
  {
   "cell_type": "code",
   "execution_count": 12,
   "metadata": {
    "collapsed": true
   },
   "outputs": [],
   "source": [
    "#Creating PRediction Results\n",
    "trainPredict = model.predict(trainX)\n",
    "testPredict = model.predict(testX)"
   ]
  },
  {
   "cell_type": "code",
   "execution_count": 13,
   "metadata": {
    "collapsed": true
   },
   "outputs": [],
   "source": [
    "#Inverting the Predictions\n",
    "trainPredict = scaler.inverse_transform(trainPredict)\n",
    "trainY = scaler.inverse_transform([trainY])\n",
    "testPredict = scaler.inverse_transform(testPredict)\n",
    "testY = scaler.inverse_transform([testY])"
   ]
  },
  {
   "cell_type": "code",
   "execution_count": 14,
   "metadata": {},
   "outputs": [
    {
     "name": "stdout",
     "output_type": "stream",
     "text": [
      "[ 14160.00029626  17874.00020595  16329.00030049  15779.00064418\n",
      "  14919.00014131  15670.00051391  15352.00019491  16052.00060422\n",
      "  16798.00064125  17035.99958289  18289.00011597  16132.99991976\n",
      "  16391.99947244  20063.00022187  18021.0004915   18491.00010103\n",
      "  17148.99944938  18649.99959524  17816.00003898  18267.00023617\n",
      "  19264.9996222   20893.00004191  21020.99958452  20745.99975636\n",
      "  20540.00003508  21777.00029269  20825.99980314  20874.99989832\n",
      "  20489.99934056  22079.99960498  21466.99944613  23711.00049215\n",
      "  23743.00104309  22971.99932821  24413.00076957  22606.00084396\n",
      "  21455.00023747  25775.00010233  24191.998711    23556.00073416\n",
      "  23704.99955723  25711.99959979  25112.9998483   25007.00018549\n",
      "  26795.99996752  26217.99949648  27063.00032323  24191.998711\n",
      "  24526.99990482  29115.00072474  25031.99920217  25741.00101386\n",
      "  25954.00093882  27461.99995777  27775.99920997  28744.9998431\n",
      "  28806.99974629  27813.00009648  28992.99945588  26203.00115094\n",
      "  26700.00097585  29631.99923076  26035.99952312  28295.99951402\n",
      "  29931.00013741  28743.99924375  28568.0002053   28499.99936719\n",
      "  29102.9988549   29657.99884678  30890.0000994   29338.00132084\n",
      "  28241.99908327  32410.99892637  28401.00123865  31960.00005977\n",
      "  31442.00095441  32814.00095831  32633.99952247  33359.00027905\n",
      "  36099.00055062  35083.99895918  35008.00130979  30985.00115289\n",
      "  31367.0012432   37257.00003021  33467.99907873  36011.99896958\n",
      "  35703.00005295  38181.00030438  37556.00093687  38372.00034954\n",
      "  42144.99969497  40636.00007666  42337.00033947  38915.99907093\n",
      "  37592.99916221  44145.00086442  41650.00106876  43106.00085565\n",
      "  43803.00079751  45071.9976143   43998.00057888  46714.99771013\n",
      "  49105.99904169  47195.99859015  48034.0005438   42775.9999974\n",
      "  41198.99954099  48902.99978787  47350.00040996  47159.99830299\n",
      "  49442.99877304  50858.00059837  48785.99885458  49656.99929735\n",
      "  50593.00144136  49644.0021505   51379.99943996  46781.00001072\n",
      "  45800.9981071   50946.0001176   48842.00048403  49864.00094856\n",
      "  50764.99808241  51290.99932139  52565.00179609  52920.00167103\n",
      "  57184.99784462  56747.00144721  58311.99737262  53828.99827732\n",
      "  48620.00048727  61658.00425228  56074.99786086  57131.99801322\n",
      "  57397.99776958  59240.00270535  59387.99560673  58679.99971673\n",
      "  63482.00106096  60753.00472104  60454.99643023  49887.99936589\n",
      "  47664.99760034  58322.9986431   52923.99874608  55102.00015268\n",
      "  54045.00000032  56037.00169734  52094.00158722  52851.99817175\n",
      "  56775.00226193  57985.99891175  57876.00217389  52625.00050059\n",
      "  51827.00123151  60509.99746033  57649.99977975  62455.00292202\n",
      "  60804.00335375  64739.99926844  62908.99826433  65726.99472282\n",
      "  73154.99720337  70866.99905891  73502.00292819  62268.9978901\n",
      "  61984.99799016  72264.99601767  67743.0001595   69243.99498302\n",
      "  70701.99596862  76466.00173405  71889.99480046  73350.99758409\n",
      "  75362.00002404  73778.99863271  73213.00003151  60631.99606802\n",
      "  62492.00380854  69790.00288661  63539.00328975  63724.997677\n",
      "  64578.99857553  64393.00418829  66837.00002891  65900.00260789\n",
      "  66969.00463008  65878.00006692  65904.00500528  61368.00075625\n",
      "  61346.99881462  75411.9980574   68846.00127016  69867.99641236\n",
      "  71238.99847808  69987.00386669  70256.99537576  69675.99842903\n",
      "  73929.00337746  72705.00425845  69855.99986486  64622.00305813\n",
      "  59193.9964247   73117.99631685  64548.00128511  64516.00339533\n",
      "  64636.00080433  65410.99693309  66106.99893677  68007.99931652\n",
      "  73100.99677262  70356.00148781  69438.9947644   60968.99579937\n",
      "  67523.99663846  75463.99728945  70275.9961187   73942.00052431\n",
      "  72387.99522471  75399.00091055  72405.99536829  75690.00500593\n",
      "  79469.00262511  73059.00353404  73996.00095506  69691.99737392\n",
      "  63527.99669693  75609.99963682  74176.00239089  71765.99499407\n",
      "  73215.00123021  76295.99564701  74149.99745253  77367.99946725\n",
      "  81072.99531339  75145.99830104  80120.99954683  72244.00472072\n",
      "  69016.99731187  86436.9955226   78713.99719395  77562.99924862\n",
      "  77641.00341904  79975.99779882  79366.00476035  81586.00472786\n",
      "  81112.99799795  85273.00043043  83946.00344665]\n",
      "[ 13918.81640625  13722.15917969  17306.875       15805.890625\n",
      "  15274.82910156  14448.05175781  15169.79296875  14863.76464844\n",
      "  15538.20703125  16260.12304688  16491.10351562  17712.2578125\n",
      "  15616.43652344  15866.83203125  19454.95703125  17450.36523438\n",
      "  17909.90039062  16600.88085938  18065.61914062  17250.29101562\n",
      "  17690.74414062  18669.125       20275.43164062  20402.23632812\n",
      "  20129.89453125  19926.10351562  21152.6015625   20209.0859375\n",
      "  20257.60546875  19876.66796875  21454.00585938  20844.61914062\n",
      "  23082.50390625  23114.55273438  22343.41015625  23786.34570312\n",
      "  21978.109375    20832.70703125  25156.35546875  23564.58789062\n",
      "  22927.32421875  23076.49609375  25092.86523438  24489.76757812\n",
      "  24383.15234375  26186.78125     25603.11328125  26456.6796875\n",
      "  23564.58789062  23900.796875    28536.0390625   24408.29296875\n",
      "  25122.08984375  25336.80859375  26860.31835938  27178.21484375\n",
      "  28160.50585938  28223.41601562  27215.68945312  28412.18554688\n",
      "  25587.9765625   26089.78515625  29061.13085938  25419.50585938\n",
      "  27705.12109375  29364.99804688  28159.49023438  27980.94726562\n",
      "  27911.97460938  28523.8515625   29087.55078125  30340.38671875\n",
      "  28762.47851562  27650.38085938  31889.21875     27811.58398438\n",
      "  31429.78320312  30902.27148438  32299.84765625  32116.43164062\n",
      "  32855.26171875  35647.4765625   34613.375       34535.9296875\n",
      "  30437.06640625  30825.91210938  36826.37109375  32966.3515625\n",
      "  35558.859375    35244.08984375  37766.046875    37130.5546875\n",
      "  37960.15234375  41781.1953125   40256.44140625  41974.80859375\n",
      "  38512.70703125  37168.1875      43792.99609375  41281.625       42749.27734375\n",
      "  43449.796875    44721.38671875  43645.52734375  46359.65234375\n",
      "  48725.28125     46837.390625    47667.53515625  42417.125       40825.9375\n",
      "  48525.3515625   46990.15625     46801.66015625  49056.78515625\n",
      "  50443.1171875   48410.046875    49267.03125     50184.19140625\n",
      "  49254.26171875  50952.1796875   46425.25390625  45449.46875\n",
      "  50529.0234375   48465.2421875   49470.2109375   50352.28125\n",
      "  50865.4765625   52102.87890625  52446.23046875  56518.203125    56104.75\n",
      "  57576.84375     53322.41796875  48246.34765625  60673.89453125\n",
      "  55468.23046875  56468.23828125  56718.8671875   58442.8046875\n",
      "  58580.4140625   57920.875       62331.953125    59843.1953125   59568.5\n",
      "  49493.75390625  47302.33203125  57587.14453125  52450.09375\n",
      "  54542.05859375  53529.984375    55432.1640625   51646.3515625\n",
      "  52380.5078125   56131.21875     57271.40625     57168.1953125\n",
      "  52160.953125    51387.05859375  59619.2421875   56955.92578125\n",
      "  61401.078125    59890.1484375   63462.609375    61813.44140625\n",
      "  64342.19921875  70742.9296875   68813.2421875   71032.2890625\n",
      "  61231.73046875  60972.74609375  69996.796875    66117.953125\n",
      "  67421.6171875   68672.625       73468.109375    69680.703125    70906.46875\n",
      "  72568.34375     71262.6328125   70791.359375    59731.7265625\n",
      "  61434.734375    67891.8828125   62383.41015625  62551.16796875  63318.5\n",
      "  63151.8046875   65323.4140625   64495.68359375  65439.5390625\n",
      "  64476.171875    64499.2421875   60408.26953125  60389.01171875\n",
      "  72609.28125     67077.5         67958.875       69129.5546875\n",
      "  68061.0234375   68292.40625     67793.859375    71387.140625    70366.40625\n",
      "  67948.5859375   63357.015625    58399.99609375  70712.0234375\n",
      "  63290.73828125  63262.0625      63369.54296875  64061.30859375\n",
      "  64679.0703125   66349.265625    70697.8125      68377.1171875\n",
      "  67589.8046875   60041.93359375  65926.4140625   72651.8359375\n",
      "  68308.671875    71397.9296875   70100.2578125   72598.6328125\n",
      "  70115.390625    72836.59375     75870.4375      70662.7265625\n",
      "  71442.7109375   67807.625       62373.4765625   72771.234375\n",
      "  71591.8046875   69575.9609375   70793.03125     73330.1328125\n",
      "  71570.28125     74196.625       77126.515625    72391.2421875\n",
      "  76383.28125     69979.1328125   67225.4765625   81190.7265625\n",
      "  75272.671875    74353.34375     74415.9609375   76269.5         75789.1328125\n",
      "  77524.2734375   77157.609375    80326.5390625 ]\n",
      "Train Score: 4041.16 RMSE\n",
      "[  84747.00451379   77385.99961083   76507.00501795   83443.00002566\n",
      "   81308.99837868   81941.00460279   82860.00188023   83476.99911413\n",
      "   86056.00135397   84034.00296588   78785.99776828   73581.99765264\n",
      "   86897.99506034   79833.99784885   82736.00207384   82622.9982156\n",
      "   83578.99637955   83782.00095571   80329.9970744    77496.00167103\n",
      "   75315.00378872   66977.99937954   62146.99928241   59129.0000458\n",
      "   68855.99661896   64887.00221515   70592.00455309   70425.0002641\n",
      "   73598.99719687   73311.99549888   71974.00256696   77921.0009216\n",
      "   78344.99957282   75483.99863173   73111.00276609   68236.99818636\n",
      "   81576.99933373   76566.99840012   79864.99513927   77573.0052421\n",
      "   82864.00427762   81119.00159404   77524.99776276   83621.0002628\n",
      "   79101.99555801   80241.99755518   77448.00483636   67217.00424286\n",
      "   85849.0050251    81936.00160606   83185.00506408   80432.00498449\n",
      "   85423.00517518   81566.00338558   81046.00042036   86052.99955593\n",
      "   84789.99835171   88163.9980626    71971.00076892   76678.00105966\n",
      "   87084.00009226   78613.00052788   81678.99659915   82125.99839069\n",
      "   83923.00030633   80483.0036172    82879.00262316   81871.99518183\n",
      "   84085.00159859   84449.99682232   77480.00272614   70380.99518215\n",
      "   92351.99598746   80846.99824159   83107.00089366   84160.00397096\n",
      "   86846.99642763   81807.99940228   81924.99501323   85075.99945035\n",
      "   86645.00309549   85179.99791447   82036.99827212   69580.0047597\n",
      "   93186.99614306   82325.00056946   86679.00218396   84215.00500106\n",
      "   85558.00092972   84773.99940682   83011.99717901   86549.99938084\n",
      "   80859.99538843   85782.99740218   81868.00342911   75577.00114769\n",
      "   89020.00015983   83906.0007621    86950.99489174   82190.9947696\n",
      "   83093.00314747   82970.00394043   84352.0019543    88227.00388748\n",
      "   87838.99487874   89301.99886108   87272.99627755   75421.00345153\n",
      "   94345.99888317   90486.99589487   88582.00376241   89695.00022187\n",
      "   89263.99737521   89609.00190135   90913.99634414   96387.99861354\n",
      "   94515.99432553   97504.9974704    88349.00249517   80437.99793591\n",
      "  103453.99702373   94333.00173632   96957.99961213]\n",
      "[ 67611.3515625  79932.8046875  74211.109375   73501.359375   78948.03125\n",
      "  77309.7421875  77798.40625    78503.7578125  78973.8671875  80908.9453125\n",
      "  79395.875      75329.8671875  71098.8671875  81530.296875   76157.9140625\n",
      "  78408.9453125  78322.4375     79051.3046875  79205.2265625  76547.03125\n",
      "  74299.5234375  72529.8359375  65447.4375     61120.546875   58339.5078125\n",
      "  67086.1484375  63594.0390625  68578.765625   68436.1171875  71113.0078125\n",
      "  70873.953125   69751.6015625  74640.328125   74979.         72668.2109375\n",
      "  70706.1796875  66548.765625   77517.3125     73549.96875    76182.2890625\n",
      "  74361.3828125  78506.8203125  77162.265625   74322.828125   79083.1875\n",
      "  75580.390625   76478.1171875  74260.9609375  65657.3671875  80755.4140625\n",
      "  77794.546875   78751.734375   76626.8203125  80438.4453125  77508.8125\n",
      "  77105.5390625  80906.703125   79965.0546875  82454.953125   69749.0625\n",
      "  73639.875      81666.8671875  75192.3984375  77596.171875   77940.890625\n",
      "  79311.953125   76666.6875     78518.2734375  77745.1875     79434.3984375\n",
      "  79709.5859375  74286.6875     68398.5        85432.578125   76950.6796875\n",
      "  78692.296875   79491.03125    81492.8046875  77695.8125     77786.046875\n",
      "  80179.2890625  81344.125      80257.0625     77872.375      67711.2578125\n",
      "  86011.5234375  78093.8828125  81369.1640625  79532.53125    80539.0390625\n",
      "  79953.046875   78619.828125   81274.109375   76960.796875   80706.375\n",
      "  77742.1171875  72744.265625   83073.6640625  79299.109375   81569.234375\n",
      "  77990.8984375  78681.609375   78587.7734375  79635.8046875  82500.6796875\n",
      "  82218.671875   83276.359375   81805.3828125  72616.6484375  86807.09375\n",
      "  84121.8984375  82757.7421875  83557.8671875  83249.0703125  83496.3515625\n",
      "  84424.140625   88186.3125     86923.         88928.765625   82589.1171875\n",
      "  76631.5078125  92743.5078125  86798.2109375]\n",
      "Test Score: 7713.78 RMSE\n"
     ]
    }
   ],
   "source": [
    "trainScore = math.sqrt(mean_squared_error(trainY[0], trainPredict[:,0]))\n",
    "print(trainY[0])\n",
    "print(trainPredict[:,0])\n",
    "print('Train Score: %.2f RMSE' % (trainScore))\n",
    "testScore = math.sqrt(mean_squared_error(testY[0], testPredict[:,0]))\n",
    "print(testY[0])\n",
    "print(testPredict[:,0])\n",
    "print('Test Score: %.2f RMSE' % (testScore))"
   ]
  },
  {
   "cell_type": "code",
   "execution_count": 15,
   "metadata": {},
   "outputs": [
    {
     "name": "stdout",
     "output_type": "stream",
     "text": [
      "Train Score: 4041.16 RMSE\n",
      "Test Score: 7713.78 RMSE\n"
     ]
    }
   ],
   "source": [
    "# calculate root mean squared error\n",
    "trainScore = math.sqrt(mean_squared_error(trainY[0], trainPredict[:,0]))\n",
    "print('Train Score: %.2f RMSE' % (trainScore))\n",
    "testScore = math.sqrt(mean_squared_error(testY[0], testPredict[:,0]))\n",
    "print('Test Score: %.2f RMSE' % (testScore))"
   ]
  },
  {
   "cell_type": "code",
   "execution_count": 16,
   "metadata": {
    "collapsed": true
   },
   "outputs": [],
   "source": [
    "# Shift Dataset to Plot\n",
    "trainPredictPlot = np.empty_like(dataset)\n",
    "trainPredictPlot[:, :] = np.nan\n",
    "trainPredictPlot[look_back:len(trainPredict)+look_back, :] = trainPredict"
   ]
  },
  {
   "cell_type": "code",
   "execution_count": 17,
   "metadata": {
    "collapsed": true
   },
   "outputs": [],
   "source": [
    "#Shift Prediction to plot\n",
    "testPredictPlot = np.empty_like(dataset)\n",
    "testPredictPlot[:, :] = np.nan\n",
    "testPredictPlot[len(trainPredict)+(look_back*2)+1:len(dataset)-1, :] = testPredict"
   ]
  },
  {
   "cell_type": "code",
   "execution_count": 18,
   "metadata": {
    "scrolled": true
   },
   "outputs": [
    {
     "data": {
      "image/png": "[encoded data removed]",
      "text/plain": [
       "<matplotlib.figure.Figure at 0x7fbf50498390>"
      ]
     },
     "metadata": {},
     "output_type": "display_data"
    }
   ],
   "source": [
    "plt.plot(scaler.inverse_transform(dataset))\n",
    "plt.plot(trainPredictPlot)\n",
    "plt.plot(testPredictPlot)\n",
    "plt.xlabel('Total Cargo Discharged in Tonnes', fontsize=14)\n",
    "plt.ylabel('Months', fontsize=14)\n",
    "plt.title('Total Cargo Discharged in Tonnes in Singapore', fontsize = 16)\n",
    "plt.show()\n"
   ]
  },
  {
   "cell_type": "markdown",
   "metadata": {
    "collapsed": true
   },
   "source": [
    "### Fig.2: This figure shows the actual and predicted values of total air cargo Discharged in Singapore based on the model. The plot in Blue is the actual value, the plot in orange is for the training data and the plot in Green is for the Prediction data"
   ]
  },
  {
   "cell_type": "code",
   "execution_count": null,
   "metadata": {
    "collapsed": true
   },
   "outputs": [],
   "source": []
  }
 ],
 "metadata": {
  "kernelspec": {
   "display_name": "Python 3",
   "language": "python",
   "name": "python3"
  },
  "language_info": {
   "codemirror_mode": {
    "name": "ipython",
    "version": 3
   },
   "file_extension": ".py",
   "mimetype": "text/x-python",
   "name": "python",
   "nbconvert_exporter": "python",
   "pygments_lexer": "ipython3",
   "version": "3.6.2"
  }
 },
 "nbformat": 4,
 "nbformat_minor": 2
}
